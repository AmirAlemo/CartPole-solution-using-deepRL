{
  "nbformat": 4,
  "nbformat_minor": 0,
  "metadata": {
    "colab": {
      "name": "RLProject.ipynb",
      "provenance": [],
      "collapsed_sections": [],
      "authorship_tag": "ABX9TyM+qhPoOltv9ZIBNySiBZ8E",
      "include_colab_link": true
    },
    "kernelspec": {
      "name": "python3",
      "display_name": "Python 3"
    },
    "language_info": {
      "name": "python"
    }
  },
  "cells": [
    {
      "cell_type": "markdown",
      "metadata": {
        "id": "view-in-github",
        "colab_type": "text"
      },
      "source": [
        "<a href=\"https://colab.research.google.com/github/AmirAlemo/CartPole-solution-using-deepRL/blob/main/RLProject.ipynb\" target=\"_parent\"><img src=\"https://colab.research.google.com/assets/colab-badge.svg\" alt=\"Open In Colab\"/></a>"
      ]
    },
    {
      "cell_type": "code",
      "source": [
        "%%bash\n",
        "#required Python dependencies\n",
        "pip install pyvirtualdisplay PyOpenGL PyOpenGL-accelerate\n",
        "#required system dependencies\n",
        "apt-get install -y xvfb x11-utils"
      ],
      "metadata": {
        "id": "itOV8J3-pbiC"
      },
      "execution_count": null,
      "outputs": []
    },
    {
      "cell_type": "code",
      "source": [
        "!pip install gym[classic_control]==0.21.*"
      ],
      "metadata": {
        "id": "0Ql4YdkHsQFj"
      },
      "execution_count": null,
      "outputs": []
    },
    {
      "cell_type": "code",
      "source": [
        "import os\n",
        "import collections\n",
        "import random\n",
        "import numpy as np\n",
        "import torch\n",
        "import torch.nn as nn\n",
        "import torch.nn.functional as F\n",
        "import torch.optim as optim\n",
        "import gym\n",
        "from gym import logger as gymlogger\n",
        "from gym.wrappers import Monitor\n",
        "import glob\n",
        "import io\n",
        "import base64\n",
        "import matplotlib.pyplot as plt\n",
        "\n",
        "from IPython.display import HTML\n",
        "from IPython import display as ipythondisplay\n",
        "\n",
        "\n",
        "#Hyperparameters\n",
        "\n",
        "learning_rate = 0.0005\n",
        "gamma = 0.98\n",
        "buffer_limit = 50000\n",
        "batch_size = 32\n",
        "video_every = 25\n",
        "print_every = 5\n",
        "\n",
        "\n",
        "class ReplayBuffer():#Experience Buffer\n",
        "\n",
        "   def __init__(self):\n",
        "     self.buffer = collections.deque(maxlen=buffer_limit) #We set an upper limit for our running experience memory(deque) as buffer_limit\n",
        "\n",
        "\n",
        "   def put(self,transition):#Adding transition as Tuple into our experience buffer\n",
        "     self.buffer.append(transition)\n",
        "\n",
        "\n",
        "   def sample(self, n):#Random generated transitions\n",
        "       mini_batch = random.sample(self.buffer, n)\n",
        "       s_lst, a_lst, r_lst, s_prime_lst, done_mask_lst = [], [], [], [], []\n",
        "\n",
        "       for  transition in mini_batch:\n",
        "         s, a, r, s_prime, done_mask = transition\n",
        "         s_lst.append(s)\n",
        "         a_lst.append([a])\n",
        "         r_lst.append([r])\n",
        "         s_prime_lst.append(s_prime)\n",
        "         done_mask_lst.append([done_mask])\n",
        "\n",
        "         return torch.tensor(s_lst, dtype=torch.float), torch.tensor(a_lst), \\\n",
        "         torch.tensor(r_lst), torch.tensor(s_prime_lst, dtype=torch.float), \\\n",
        "         torch.tensor(done_mask_lst)\n",
        "\n",
        "   def size(self):#Returns the length of our memory deque\n",
        "    return len(self.buffer)\n",
        "\n",
        "class QNetwork(nn.Module):\n",
        "\n",
        " def __init__(self, insize, outsize): #Defining a fully connected 3-layer neural network\n",
        "  super(QNetwork, self).__init__()\n",
        "  self.fc1 = nn.Linear(insize, 256)\n",
        "  self.fc2 = nn.Linear(256, 84)\n",
        "  self.fc3 = nn.Linear(84, outsize)\n",
        "\n",
        "\n",
        " def forward(self, x):#Producing ALL of the action scores in parallel\n",
        "      x = x.view(x.size(0), -1)\n",
        "      x = F.relu(self.fc1(x))\n",
        "      x = F.relu(self.fc2(x))\n",
        "      x = self.fc3(x)\n",
        "      return x\n",
        "\n",
        "\n",
        " def sample_action(self, obs, epsilon):#Producing a random action every once in a while!\n",
        "      out = self.forward(obs)\n",
        "      coin = random.random()\n",
        "      if coin < epsilon:\n",
        "        return random.randint(0,1)\n",
        "      else:\n",
        "          return out.argmax().item()#Max over all of our action scores\n",
        "\n",
        "\n",
        "def train(q, q_target, memory, optimizer):#Training loop to run 10 times per iteration\n",
        "      for i in range(10):\n",
        "        s, a, r, s_prime, done_mask = memory.sample(batch_size)\n",
        "\n",
        "        q_out = q(s)\n",
        "        q_a = q_out.gather(1, a)\n",
        "        max_q_prime = q_target(s_prime).max(1)[0].unsqueeze(1)\n",
        "        target = r + gamma*max_q_prime*done_mask\n",
        "        loss = F.smooth_l1_loss(q_a, target)\n",
        "         #optimizer\n",
        "        optimizer.zero_grad()\n",
        "        loss.backward()\n",
        "        optimizer.step()"
      ],
      "metadata": {
        "id": "6MHe2jgAhhRq"
      },
      "execution_count": 8,
      "outputs": []
    },
    {
      "cell_type": "code",
      "source": [
        "from pyvirtualdisplay import Display#Display buffer\n",
        "display = Display(visible=False, size=(1400,900))\n",
        "display.start()"
      ],
      "metadata": {
        "colab": {
          "base_uri": "https://localhost:8080/"
        },
        "id": "TLUVH77YrZaO",
        "outputId": "062c238b-ba0b-4dff-f899-b807d663f67c"
      },
      "execution_count": 9,
      "outputs": [
        {
          "output_type": "execute_result",
          "data": {
            "text/plain": [
              "<pyvirtualdisplay.display.Display at 0x7f27e2498310>"
            ]
          },
          "metadata": {},
          "execution_count": 9
        }
      ]
    },
    {
      "cell_type": "code",
      "source": [
        "!echo $DISPLAY#Test if Display is available"
      ],
      "metadata": {
        "colab": {
          "base_uri": "https://localhost:8080/"
        },
        "id": "mbVr4d4OrJcs",
        "outputId": "bef99e26-0eec-4e9c-beba-0d93654aa032"
      },
      "execution_count": 10,
      "outputs": [
        {
          "output_type": "stream",
          "name": "stdout",
          "text": [
            ":0#Test if Display is available\n"
          ]
        }
      ]
    },
    {
      "cell_type": "code",
      "source": [
        "#Setting up the training environment and recording a video from the training sesseion every 5 episodes\n",
        "env = gym.make('CartPole-v0')\n",
        "env = gym.wrappers.Monitor(env, \"/video\", video_callable=lambda episode_id: (episode_id%video_every)==0, force = True)\n"
      ],
      "metadata": {
        "id": "48t40m5dunPn"
      },
      "execution_count": 11,
      "outputs": []
    },
    {
      "cell_type": "code",
      "source": [
        "env.reset()"
      ],
      "metadata": {
        "colab": {
          "base_uri": "https://localhost:8080/"
        },
        "id": "g_PMHI8-KMcc",
        "outputId": "53f99fcb-77eb-4e93-a55d-130576cad9c0"
      },
      "execution_count": 12,
      "outputs": [
        {
          "output_type": "execute_result",
          "data": {
            "text/plain": [
              "array([ 0.01392667, -0.02733683,  0.04163995, -0.03474056], dtype=float32)"
            ]
          },
          "metadata": {},
          "execution_count": 12
        }
      ]
    },
    {
      "cell_type": "code",
      "source": [
        "plt.imshow(env.render(mode='rgb_array'))"
      ],
      "metadata": {
        "colab": {
          "base_uri": "https://localhost:8080/",
          "height": 286
        },
        "id": "aYUY75K9uBFZ",
        "outputId": "d93d89f8-7481-4743-9c5f-b39c506e02fd"
      },
      "execution_count": 12,
      "outputs": [
        {
          "output_type": "execute_result",
          "data": {
            "text/plain": [
              "<matplotlib.image.AxesImage at 0x7f3ba33391d0>"
            ]
          },
          "metadata": {},
          "execution_count": 12
        },
        {
          "output_type": "display_data",
          "data": {
            "text/plain": [
              "<Figure size 432x288 with 1 Axes>"
            ],
            "image/png": "[encoded data removed]"
          },
          "metadata": {
            "needs_background": "light"
          }
        }
      ]
    },
    {
      "cell_type": "code",
      "source": [
        "#Train!\n",
        "seed = 742\n",
        "torch.manual_seed(seed)\n",
        "env.seed(seed)\n",
        "random.seed(seed)\n",
        "np.random.seed(seed)\n",
        "env.action_space.seed(seed)\n",
        "\n",
        "\n",
        "q = QNetwork(np.array(env.observation_space.shape).prod(), env.action_space.n)\n",
        "q_target = QNetwork(np.array(env.observation_space.shape).prod(), env.action_space.n)\n",
        "q_target.load_state_dict(q.state_dict())\n",
        "memory = ReplayBuffer()\n",
        "\n",
        "\n",
        "score = 0.0\n",
        "marking = []\n",
        "optimizer = optim.Adam(q.parameters(), lr=learning_rate)\n",
        "\n",
        "\n",
        "for n_episode in range(3001):\n",
        "   epsilon = max(0.01, 0.08 - 0.01*(n_episode/200))#Linear annealing from 8% to 1%\n",
        "   s = env.reset()\n",
        "   done = False\n",
        "   score = 0.0\n",
        "\n",
        "   while True:\n",
        "\n",
        "     a = q.sample_action(torch.from_numpy(s).float().unsqueeze(0), epsilon)\n",
        "     s_prime, r, done, info = env.step(a)\n",
        "     done_mask = 0.0 if done else 1.0\n",
        "     memory.put((s, a, r/200, s_prime, done_mask))#Generating samples (state, action, reward, future next step, check if done) and plugging them into memory\n",
        "     s = s_prime\n",
        "\n",
        "     score += r#Piling on the rewards as we go forward\n",
        "     if done:\n",
        "       break\n",
        "\n",
        "\n",
        "\n",
        "\n",
        "   if memory.size()>2000:#Size is selected 2000 just to even the distribution\n",
        "       train(q, q_target, memory, optimizer)\n",
        "\n",
        "\n",
        "   marking.append(score)\n",
        "   if n_episode%100 == 0:\n",
        "      print(\"marking, episode: {}, score: {:.1f}, mean_score: {:.2f}, std_score: {:.2f}\".format(\n",
        "          n_episode, score, np.array(marking).mean(), np.array(marking).std()))\n",
        "      marking = []\n",
        "\n",
        "\n",
        "   if n_episode%print_every == 0 and n_episode != 0:\n",
        "      q_target.load_state_dict(q.state_dict())\n",
        "      print(\"episode: {}, score :{:.1f}, epsilon: {:.2f}\".format(n_episode, score, epsilon))"
      ],
      "metadata": {
        "id": "-Chwt_yhMLHp"
      },
      "execution_count": null,
      "outputs": []
    }
  ]
}